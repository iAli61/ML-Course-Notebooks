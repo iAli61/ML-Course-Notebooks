{
 "cells": [
  {
   "cell_type": "code",
   "execution_count": 3,
   "metadata": {},
   "outputs": [
    {
     "name": "stdout",
     "output_type": "stream",
     "text": [
      "New PDF file '/home/alibina/repo/ml_learning/Zahn_Kostenplan_2024-04-28_195347-part2.pdf' has been created with the specified pages.\n"
     ]
    }
   ],
   "source": [
    "import PyPDF2\n",
    "\n",
    "def extract_pages(source_pdf_path, page_list, output_pdf_path):\n",
    "    # Create a PDF reader object\n",
    "    pdf_reader = PyPDF2.PdfReader(source_pdf_path)\n",
    "    \n",
    "    # Create a PDF writer object for the output PDF\n",
    "    pdf_writer = PyPDF2.PdfWriter()\n",
    "    \n",
    "    # Loop through the list of pages\n",
    "    for page_number in page_list:\n",
    "        # The page numbers are assumed to be 1-based, adjust for 0-based index\n",
    "        try:\n",
    "            # Get the page at specified index and add it to the writer object\n",
    "            pdf_writer.add_page(pdf_reader.pages[page_number - 1])\n",
    "        except IndexError:\n",
    "            print(f\"Page {page_number} is out of range.\")\n",
    "            continue\n",
    "    \n",
    "    # Write the pages to a new PDF file\n",
    "    with open(output_pdf_path, 'wb') as output_pdf:\n",
    "        pdf_writer.write(output_pdf)\n",
    "\n",
    "    print(f\"New PDF file '{output_pdf_path}' has been created with the specified pages.\")\n",
    "\n",
    "# Example usage\n",
    "source_pdf = \"/home/alibina/repo/ml_learning/Zahn_Kostenplan_2024-04-28_195347.pdf\"\n",
    "pages_to_extract = [3, 4, 5, 6]\n",
    "output_pdf = \"/home/alibina/repo/ml_learning/Zahn_Kostenplan_2024-04-28_195347-part2.pdf\"\n",
    "extract_pages(source_pdf, pages_to_extract, output_pdf)\n"
   ]
  },
  {
   "cell_type": "code",
   "execution_count": 21,
   "metadata": {},
   "outputs": [],
   "source": [
    "from itertools import batched, count\n",
    "\n",
    "batches = batched(range(1, 12), 10)"
   ]
  },
  {
   "cell_type": "code",
   "execution_count": 22,
   "metadata": {},
   "outputs": [
    {
     "name": "stdout",
     "output_type": "stream",
     "text": [
      "Batch 1: (1, 2, 3, 4, 5, 6, 7, 8, 9, 10)\n",
      "Batch 2: (11,)\n"
     ]
    }
   ],
   "source": [
    "counter = count(1)\n",
    "\n",
    "for batch in batches:\n",
    "    print(f\"Batch {next(counter)}: {batch}\")\n"
   ]
  },
  {
   "cell_type": "code",
   "execution_count": 18,
   "metadata": {},
   "outputs": [
    {
     "data": {
      "text/plain": [
       "12"
      ]
     },
     "execution_count": 18,
     "metadata": {},
     "output_type": "execute_result"
    }
   ],
   "source": [
    "next(counter)"
   ]
  },
  {
   "cell_type": "code",
   "execution_count": 19,
   "metadata": {},
   "outputs": [
    {
     "data": {
      "text/plain": [
       "count(14, 2)"
      ]
     },
     "execution_count": 19,
     "metadata": {},
     "output_type": "execute_result"
    }
   ],
   "source": [
    "counter"
   ]
  },
  {
   "cell_type": "code",
   "execution_count": null,
   "metadata": {},
   "outputs": [],
   "source": []
  }
 ],
 "metadata": {
  "kernelspec": {
   "display_name": "autogen",
   "language": "python",
   "name": "python3"
  },
  "language_info": {
   "codemirror_mode": {
    "name": "ipython",
    "version": 3
   },
   "file_extension": ".py",
   "mimetype": "text/x-python",
   "name": "python",
   "nbconvert_exporter": "python",
   "pygments_lexer": "ipython3",
   "version": "3.12.0"
  }
 },
 "nbformat": 4,
 "nbformat_minor": 2
}
