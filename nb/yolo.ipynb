{
 "cells": [
  {
   "cell_type": "code",
   "execution_count": 2,
   "metadata": {},
   "outputs": [
    {
     "name": "stdout",
     "output_type": "stream",
     "text": [
      "Detected 179 objects\n",
      "Box: [0.11503144185124134, 0.021705122060749003, 0.03525732165279706, 0.07577562107376504], Confidence: 1.00, Class: 6\n",
      "Box: [0.22382501862335857, 0.07183453432228398, 0.03937440204816355, 0.02258813558257586], Confidence: 0.72, Class: 0\n",
      "Box: [0.21233406193540325, 0.07024715205911422, 0.03454206085786847, 0.030468520377521645], Confidence: 0.86, Class: 0\n",
      "Box: [0.29995135597606676, 0.009876684812525939, 0.05255698603932772, 0.06773852989209858], Confidence: 0.60, Class: 16\n",
      "Box: [0.3709510357997608, 0.029010669156796707, 0.06295777335846373, 0.04562115677867488], Confidence: 0.58, Class: 4\n"
     ]
    }
   ],
   "source": [
    "import numpy as np\n",
    "\n",
    "class SimpleYOLO:\n",
    "    def __init__(self, grid_size=13, num_boxes=2, num_classes=20):\n",
    "        self.grid_size = grid_size\n",
    "        self.num_boxes = num_boxes\n",
    "        self.num_classes = num_classes\n",
    "\n",
    "    def predict(self, image):\n",
    "        # Simulate network forward pass\n",
    "        # In reality, this would be a complex CNN\n",
    "        output = np.random.rand(self.grid_size, self.grid_size, \n",
    "                                self.num_boxes * 5 + self.num_classes)\n",
    "        return output\n",
    "\n",
    "    def process_output(self, output):\n",
    "        boxes = []\n",
    "        for i in range(self.grid_size):\n",
    "            for j in range(self.grid_size):\n",
    "                for b in range(self.num_boxes):\n",
    "                    # Extract box data\n",
    "                    box = output[i, j, b*5:(b+1)*5]\n",
    "                    confidence = box[4]\n",
    "                    \n",
    "                    if confidence > 0.5:  # Confidence threshold\n",
    "                        x, y, w, h = box[:4]\n",
    "                        x = (j + x) / self.grid_size\n",
    "                        y = (i + y) / self.grid_size\n",
    "                        w /= self.grid_size\n",
    "                        h /= self.grid_size\n",
    "\n",
    "                        # Get class probabilities\n",
    "                        class_probs = output[i, j, self.num_boxes*5:]\n",
    "                        class_id = np.argmax(class_probs)\n",
    "                        class_prob = class_probs[class_id]\n",
    "\n",
    "                        boxes.append({\n",
    "                            'box': [x, y, w, h],\n",
    "                            'confidence': confidence,\n",
    "                            'class_id': class_id,\n",
    "                            'class_prob': class_prob\n",
    "                        })\n",
    "        return boxes\n",
    "\n",
    "# Usage\n",
    "yolo = SimpleYOLO()\n",
    "image = np.random.rand(416, 416, 3)  # Simulated input image\n",
    "output = yolo.predict(image)\n",
    "detections = yolo.process_output(output)\n",
    "\n",
    "print(f\"Detected {len(detections)} objects\")\n",
    "for det in detections[:5]:  # Print first 5 detections\n",
    "    print(f\"Box: {det['box']}, Confidence: {det['confidence']:.2f}, Class: {det['class_id']}\")"
   ]
  },
  {
   "cell_type": "code",
   "execution_count": null,
   "metadata": {},
   "outputs": [],
   "source": []
  }
 ],
 "metadata": {
  "kernelspec": {
   "display_name": "fastai",
   "language": "python",
   "name": "python3"
  },
  "language_info": {
   "codemirror_mode": {
    "name": "ipython",
    "version": 3
   },
   "file_extension": ".py",
   "mimetype": "text/x-python",
   "name": "python",
   "nbconvert_exporter": "python",
   "pygments_lexer": "ipython3",
   "version": "3.11.3"
  }
 },
 "nbformat": 4,
 "nbformat_minor": 2
}
