{
 "cells": [
  {
   "cell_type": "code",
   "execution_count": 1,
   "metadata": {},
   "outputs": [],
   "source": [
    "import numpy as np\n",
    "from collections import defaultdict\n",
    "\n",
    "class MarkovChainMLE:\n",
    "    def __init__(self):\n",
    "        self.transition_matrix = None\n",
    "        self.states = None\n",
    "        self.state_to_idx = None\n",
    "        \n",
    "    def fit(self, sequence):\n",
    "        # First, identify all unique states\n",
    "        unique_states = sorted(set(sequence))\n",
    "        self.states = unique_states\n",
    "        self.state_to_idx = {state: idx for idx, state in enumerate(unique_states)}\n",
    "        n_states = len(unique_states)\n",
    "        \n",
    "        # Initialize count matrix\n",
    "        counts = np.zeros((n_states, n_states))\n",
    "        \n",
    "        # Count transitions\n",
    "        for t in range(len(sequence)-1):\n",
    "            current_state = sequence[t]\n",
    "            next_state = sequence[t+1]\n",
    "            i = self.state_to_idx[current_state]\n",
    "            j = self.state_to_idx[next_state]\n",
    "            counts[i, j] += 1\n",
    "            \n",
    "        # Convert counts to probabilities using MLE\n",
    "        # MLE estimate = (number of transitions from i to j) / (total transitions from i)\n",
    "        row_sums = counts.sum(axis=1, keepdims=True)\n",
    "        # Avoid division by zero\n",
    "        row_sums[row_sums == 0] = 1\n",
    "        self.transition_matrix = counts / row_sums\n",
    "        \n",
    "    def predict_next_state_proba(self, current_state):\n",
    "        \"\"\"Predict probability distribution of next state\"\"\"\n",
    "        state_idx = self.state_to_idx[current_state]\n",
    "        return self.transition_matrix[state_idx]\n",
    "    \n",
    "    def generate_sequence(self, start_state, length):\n",
    "        \"\"\"Generate a sequence of states\"\"\"\n",
    "        sequence = [start_state]\n",
    "        current_state = start_state\n",
    "        \n",
    "        for _ in range(length-1):\n",
    "            # Get probabilities for next state\n",
    "            probs = self.predict_next_state_proba(current_state)\n",
    "            # Sample next state\n",
    "            next_state = np.random.choice(self.states, p=probs)\n",
    "            sequence.append(next_state)\n",
    "            current_state = next_state\n",
    "            \n",
    "        return sequence\n",
    "\n",
    "# Let's demonstrate with a weather example\n",
    "def demonstrate_weather_markov():\n",
    "    # Example sequence: Sunny (S), Rainy (R), Cloudy (C)\n",
    "    weather_sequence = ['S', 'S', 'R', 'R', 'C', 'S', 'R', 'C', 'S', 'S']\n",
    "    \n",
    "    # Fit Markov chain\n",
    "    mc = MarkovChainMLE()\n",
    "    mc.fit(weather_sequence)\n",
    "    \n",
    "    print(\"Transition Matrix:\")\n",
    "    for i, state in enumerate(mc.states):\n",
    "        print(f\"\\nFrom {state} to:\")\n",
    "        for j, next_state in enumerate(mc.states):\n",
    "            prob = mc.transition_matrix[i, j]\n",
    "            print(f\"{next_state}: {prob:.2f}\", end=' ')\n",
    "            \n",
    "    # Generate a new sequence\n",
    "    print(\"\\n\\nGenerated weather sequence:\")\n",
    "    new_sequence = mc.generate_sequence('S', 5)\n",
    "    print(' -> '.join(new_sequence))\n",
    "    \n",
    "    return mc"
   ]
  },
  {
   "cell_type": "code",
   "execution_count": 2,
   "metadata": {},
   "outputs": [
    {
     "name": "stdout",
     "output_type": "stream",
     "text": [
      "Transition Matrix:\n",
      "\n",
      "From C to:\n",
      "C: 0.00 R: 0.00 S: 1.00 \n",
      "From R to:\n",
      "C: 0.67 R: 0.33 S: 0.00 \n",
      "From S to:\n",
      "C: 0.00 R: 0.50 S: 0.50 \n",
      "\n",
      "Generated weather sequence:\n",
      "S -> S -> S -> R -> C\n"
     ]
    },
    {
     "data": {
      "text/plain": [
       "<__main__.MarkovChainMLE at 0x7fc5e3179c50>"
      ]
     },
     "execution_count": 2,
     "metadata": {},
     "output_type": "execute_result"
    }
   ],
   "source": [
    "demonstrate_weather_markov()"
   ]
  },
  {
   "cell_type": "code",
   "execution_count": null,
   "metadata": {},
   "outputs": [],
   "source": []
  }
 ],
 "metadata": {
  "kernelspec": {
   "display_name": "fastai",
   "language": "python",
   "name": "python3"
  },
  "language_info": {
   "codemirror_mode": {
    "name": "ipython",
    "version": 3
   },
   "file_extension": ".py",
   "mimetype": "text/x-python",
   "name": "python",
   "nbconvert_exporter": "python",
   "pygments_lexer": "ipython3",
   "version": "3.11.3"
  }
 },
 "nbformat": 4,
 "nbformat_minor": 2
}
