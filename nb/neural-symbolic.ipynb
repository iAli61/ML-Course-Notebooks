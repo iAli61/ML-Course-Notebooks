{
 "cells": [
  {
   "cell_type": "code",
   "execution_count": 1,
   "metadata": {},
   "outputs": [
    {
     "name": "stderr",
     "output_type": "stream",
     "text": [
      "/home/alibina/miniconda3/envs/autogen/lib/python3.12/site-packages/torch/autograd/graph.py:769: UserWarning: CUDA initialization: The NVIDIA driver on your system is too old (found version 11040). Please update your GPU driver by downloading and installing a new version from the URL: http://www.nvidia.com/Download/index.aspx Alternatively, go to: https://pytorch.org to install a PyTorch version that has been compiled with your version of the CUDA driver. (Triggered internally at ../c10/cuda/CUDAFunctions.cpp:108.)\n",
      "  return Variable._execution_engine.run_backward(  # Calls into the C++ engine to run the backward pass\n"
     ]
    },
    {
     "name": "stdout",
     "output_type": "stream",
     "text": [
      "Neural-Symbolic AND Results:\n",
      "0 AND 0 = 0.00\n",
      "0 AND 1 = 0.00\n",
      "1 AND 0 = 0.00\n",
      "1 AND 1 = 1.00\n"
     ]
    }
   ],
   "source": [
    "import torch\n",
    "import torch.nn as nn\n",
    "import torch.optim as optim\n",
    "\n",
    "# Define a simple neural network\n",
    "class SimpleNN(nn.Module):\n",
    "    def __init__(self):\n",
    "        super(SimpleNN, self).__init__()\n",
    "        self.fc1 = nn.Linear(2, 10)\n",
    "        self.fc2 = nn.Linear(10, 1)\n",
    "        \n",
    "    def forward(self, x):\n",
    "        x = torch.relu(self.fc1(x))\n",
    "        x = torch.sigmoid(self.fc2(x))\n",
    "        return x\n",
    "\n",
    "# Symbolic rule: AND operation\n",
    "def symbolic_and(x, y):\n",
    "    return x * y\n",
    "\n",
    "# Neural-Symbolic integration\n",
    "def neural_symbolic_and(x, y):\n",
    "    # Neural part\n",
    "    nn_input = torch.tensor([x, y], dtype=torch.float32)\n",
    "    nn_output = model(nn_input)\n",
    "    \n",
    "    # Symbolic part\n",
    "    symbolic_output = symbolic_and(x, y)\n",
    "    \n",
    "    # Combine neural and symbolic outputs\n",
    "    final_output = (nn_output.item() + symbolic_output) / 2\n",
    "    return final_output\n",
    "\n",
    "# Create and train the neural network\n",
    "model = SimpleNN()\n",
    "criterion = nn.BCELoss()\n",
    "optimizer = optim.Adam(model.parameters(), lr=0.01)\n",
    "\n",
    "# Training data for AND operation\n",
    "X = torch.tensor([[0, 0], [0, 1], [1, 0], [1, 1]], dtype=torch.float32)\n",
    "y = torch.tensor([[0], [0], [0], [1]], dtype=torch.float32)\n",
    "\n",
    "# Train the neural network\n",
    "for epoch in range(1000):\n",
    "    optimizer.zero_grad()\n",
    "    output = model(X)\n",
    "    loss = criterion(output, y)\n",
    "    loss.backward()\n",
    "    optimizer.step()\n",
    "\n",
    "# Test the neural-symbolic integration\n",
    "print(\"Neural-Symbolic AND Results:\")\n",
    "print(f\"0 AND 0 = {neural_symbolic_and(0, 0):.2f}\")\n",
    "print(f\"0 AND 1 = {neural_symbolic_and(0, 1):.2f}\")\n",
    "print(f\"1 AND 0 = {neural_symbolic_and(1, 0):.2f}\")\n",
    "print(f\"1 AND 1 = {neural_symbolic_and(1, 1):.2f}\")"
   ]
  },
  {
   "cell_type": "code",
   "execution_count": null,
   "metadata": {},
   "outputs": [],
   "source": []
  }
 ],
 "metadata": {
  "kernelspec": {
   "display_name": "autogen",
   "language": "python",
   "name": "python3"
  },
  "language_info": {
   "codemirror_mode": {
    "name": "ipython",
    "version": 3
   },
   "file_extension": ".py",
   "mimetype": "text/x-python",
   "name": "python",
   "nbconvert_exporter": "python",
   "pygments_lexer": "ipython3",
   "version": "3.12.0"
  }
 },
 "nbformat": 4,
 "nbformat_minor": 2
}
