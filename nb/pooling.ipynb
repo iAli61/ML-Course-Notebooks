{
 "cells": [
  {
   "cell_type": "code",
   "execution_count": 1,
   "metadata": {},
   "outputs": [
    {
     "name": "stdout",
     "output_type": "stream",
     "text": [
      "Original Feature Map:\n",
      "[[ 1  2  3  4]\n",
      " [ 5  6  7  8]\n",
      " [ 9 10 11 12]\n",
      " [13 14 15 16]]\n",
      "\n",
      "Max Pooled:\n",
      "[[ 6.  8.]\n",
      " [14. 16.]]\n",
      "\n",
      "Average Pooled:\n",
      "[[ 3.5  5.5]\n",
      " [11.5 13.5]]\n",
      "\n",
      "Global Average Pooled:\n",
      "8.5\n",
      "\n",
      "Global Max Pooled:\n",
      "16.0\n",
      "\n",
      "Shifted Feature Map:\n",
      "[[ 0  1  2  3]\n",
      " [ 0  5  6  7]\n",
      " [ 0  9 10 11]\n",
      " [ 0 13 14 15]]\n",
      "\n",
      "Max Pooled (Shifted):\n",
      "[[ 5.  7.]\n",
      " [13. 15.]]\n",
      "\n",
      "Average Pooled (Shifted):\n",
      "[[ 1.5  4.5]\n",
      " [ 5.5 12.5]]\n",
      "\n",
      "Global Average Pooled (Shifted):\n",
      "6.0\n",
      "\n",
      "Global Max Pooled (Shifted):\n",
      "15.0\n"
     ]
    }
   ],
   "source": [
    "import numpy as np\n",
    "import torch\n",
    "import torch.nn as nn\n",
    "\n",
    "# Create a sample 2D feature map\n",
    "feature_map = np.array([\n",
    "    [1, 2, 3, 4],\n",
    "    [5, 6, 7, 8],\n",
    "    [9, 10, 11, 12],\n",
    "    [13, 14, 15, 16]\n",
    "])\n",
    "\n",
    "# Convert to PyTorch tensor and add batch and channel dimensions\n",
    "feature_map_tensor = torch.FloatTensor(feature_map).unsqueeze(0).unsqueeze(0)\n",
    "\n",
    "# Define pooling layers\n",
    "max_pool = nn.MaxPool2d(kernel_size=2, stride=2)\n",
    "avg_pool = nn.AvgPool2d(kernel_size=2, stride=2)\n",
    "global_avg_pool = nn.AdaptiveAvgPool2d(1)\n",
    "global_max_pool = nn.AdaptiveMaxPool2d(1)\n",
    "\n",
    "# Apply pooling operations\n",
    "max_pooled = max_pool(feature_map_tensor)\n",
    "avg_pooled = avg_pool(feature_map_tensor)\n",
    "gap = global_avg_pool(feature_map_tensor)\n",
    "gmp = global_max_pool(feature_map_tensor)\n",
    "\n",
    "print(\"Original Feature Map:\")\n",
    "print(feature_map)\n",
    "\n",
    "print(\"\\nMax Pooled:\")\n",
    "print(max_pooled.squeeze().numpy())\n",
    "\n",
    "print(\"\\nAverage Pooled:\")\n",
    "print(avg_pooled.squeeze().numpy())\n",
    "\n",
    "print(\"\\nGlobal Average Pooled:\")\n",
    "print(gap.squeeze().numpy())\n",
    "\n",
    "print(\"\\nGlobal Max Pooled:\")\n",
    "print(gmp.squeeze().numpy())\n",
    "\n",
    "# Demonstrate local translational invariance\n",
    "shifted_feature_map = np.array([\n",
    "    [0, 1, 2, 3],\n",
    "    [0, 5, 6, 7],\n",
    "    [0, 9, 10, 11],\n",
    "    [0, 13, 14, 15]\n",
    "])\n",
    "shifted_tensor = torch.FloatTensor(shifted_feature_map).unsqueeze(0).unsqueeze(0)\n",
    "\n",
    "print(\"\\nShifted Feature Map:\")\n",
    "print(shifted_feature_map)\n",
    "\n",
    "print(\"\\nMax Pooled (Shifted):\")\n",
    "print(max_pool(shifted_tensor).squeeze().numpy())\n",
    "\n",
    "print(\"\\nAverage Pooled (Shifted):\")\n",
    "print(avg_pool(shifted_tensor).squeeze().numpy())\n",
    "\n",
    "print(\"\\nGlobal Average Pooled (Shifted):\")\n",
    "print(global_avg_pool(shifted_tensor).squeeze().numpy())\n",
    "\n",
    "print(\"\\nGlobal Max Pooled (Shifted):\")\n",
    "print(global_max_pool(shifted_tensor).squeeze().numpy())"
   ]
  },
  {
   "cell_type": "code",
   "execution_count": 8,
   "metadata": {},
   "outputs": [
    {
     "name": "stdout",
     "output_type": "stream",
     "text": [
      "\n",
      "Image with circle at Center:\n",
      "[[0. 0. 0. 0. 0. 0. 0. 0. 0. 0.]\n",
      " [0. 0. 0. 0. 0. 0. 0. 0. 0. 0.]\n",
      " [0. 0. 0. 0. 0. 1. 0. 0. 0. 0.]\n",
      " [0. 0. 0. 1. 1. 1. 1. 1. 0. 0.]\n",
      " [0. 0. 0. 1. 1. 1. 1. 1. 0. 0.]\n",
      " [0. 0. 1. 1. 1. 1. 1. 1. 1. 0.]\n",
      " [0. 0. 0. 1. 1. 1. 1. 1. 0. 0.]\n",
      " [0. 0. 0. 1. 1. 1. 1. 1. 0. 0.]\n",
      " [0. 0. 0. 0. 0. 1. 0. 0. 0. 0.]\n",
      " [0. 0. 0. 0. 0. 0. 0. 0. 0. 0.]]\n"
     ]
    },
    {
     "data": {
      "image/png": "[encoded data removed]",
      "text/plain": [
       "<Figure size 640x480 with 1 Axes>"
      ]
     },
     "metadata": {},
     "output_type": "display_data"
    },
    {
     "name": "stdout",
     "output_type": "stream",
     "text": [
      "\n",
      "Max Pooling 2x2:\n",
      "[[0. 0. 0. 0. 0.]\n",
      " [0. 1. 1. 1. 0.]\n",
      " [0. 1. 1. 1. 1.]\n",
      " [0. 1. 1. 1. 0.]\n",
      " [0. 0. 1. 0. 0.]]\n"
     ]
    },
    {
     "data": {
      "image/png": "[encoded data removed]",
      "text/plain": [
       "<Figure size 640x480 with 1 Axes>"
      ]
     },
     "metadata": {},
     "output_type": "display_data"
    },
    {
     "name": "stdout",
     "output_type": "stream",
     "text": [
      "\n",
      "Average Pooling 2x2:\n",
      "[[0.   0.   0.   0.   0.  ]\n",
      " [0.   0.25 0.75 0.5  0.  ]\n",
      " [0.   0.75 1.   1.   0.25]\n",
      " [0.   0.5  1.   1.   0.  ]\n",
      " [0.   0.   0.25 0.   0.  ]]\n"
     ]
    },
    {
     "data": {
      "image/png": "[encoded data removed]",
      "text/plain": [
       "<Figure size 640x480 with 1 Axes>"
      ]
     },
     "metadata": {},
     "output_type": "display_data"
    },
    {
     "name": "stdout",
     "output_type": "stream",
     "text": [
      "\n",
      "Global Average Pooling:\n",
      "0.29\n",
      "\n",
      "Global Max Pooling:\n",
      "1.0\n",
      "\n",
      "Image with circle at Top Right:\n",
      "[[0. 0. 0. 0. 0. 0. 1. 0. 0. 0.]\n",
      " [0. 0. 0. 0. 1. 1. 1. 1. 1. 0.]\n",
      " [0. 0. 0. 0. 1. 1. 1. 1. 1. 0.]\n",
      " [0. 0. 0. 1. 1. 1. 1. 1. 1. 1.]\n",
      " [0. 0. 0. 0. 1. 1. 1. 1. 1. 0.]\n",
      " [0. 0. 0. 0. 1. 1. 1. 1. 1. 0.]\n",
      " [0. 0. 0. 0. 0. 0. 1. 0. 0. 0.]\n",
      " [0. 0. 0. 0. 0. 0. 0. 0. 0. 0.]\n",
      " [0. 0. 0. 0. 0. 0. 0. 0. 0. 0.]\n",
      " [0. 0. 0. 0. 0. 0. 0. 0. 0. 0.]]\n"
     ]
    },
    {
     "data": {
      "image/png": "[encoded data removed]",
      "text/plain": [
       "<Figure size 640x480 with 1 Axes>"
      ]
     },
     "metadata": {},
     "output_type": "display_data"
    },
    {
     "name": "stdout",
     "output_type": "stream",
     "text": [
      "\n",
      "Max Pooling 2x2:\n",
      "[[0. 0. 1. 1. 1.]\n",
      " [0. 1. 1. 1. 1.]\n",
      " [0. 0. 1. 1. 1.]\n",
      " [0. 0. 0. 1. 0.]\n",
      " [0. 0. 0. 0. 0.]]\n"
     ]
    },
    {
     "data": {
      "image/png": "[encoded data removed]",
      "text/plain": [
       "<Figure size 640x480 with 1 Axes>"
      ]
     },
     "metadata": {},
     "output_type": "display_data"
    },
    {
     "name": "stdout",
     "output_type": "stream",
     "text": [
      "\n",
      "Average Pooling 2x2:\n",
      "[[0.   0.   0.5  0.75 0.25]\n",
      " [0.   0.25 1.   1.   0.75]\n",
      " [0.   0.   1.   1.   0.5 ]\n",
      " [0.   0.   0.   0.25 0.  ]\n",
      " [0.   0.   0.   0.   0.  ]]\n"
     ]
    },
    {
     "data": {
      "image/png": "[encoded data removed]",
      "text/plain": [
       "<Figure size 640x480 with 1 Axes>"
      ]
     },
     "metadata": {},
     "output_type": "display_data"
    },
    {
     "name": "stdout",
     "output_type": "stream",
     "text": [
      "\n",
      "Global Average Pooling:\n",
      "0.29\n",
      "\n",
      "Global Max Pooling:\n",
      "1.0\n"
     ]
    }
   ],
   "source": [
    "import numpy as np\n",
    "import matplotlib.pyplot as plt\n",
    "\n",
    "def create_image_with_circle(size, center):\n",
    "    image = np.zeros((size, size))\n",
    "    y, x = np.ogrid[:size, :size]\n",
    "    mask = ((x - center[1])**2 + (y - center[0])**2 <= 3**2)\n",
    "    image[mask] = 1\n",
    "    return image\n",
    "\n",
    "def max_pool_2x2(image):\n",
    "    h, w = image.shape\n",
    "    pooled = np.zeros((h//2, w//2))\n",
    "    for i in range(0, h, 2):\n",
    "        for j in range(0, w, 2):\n",
    "            pooled[i//2, j//2] = np.max(image[i:i+2, j:j+2])\n",
    "    return pooled\n",
    "\n",
    "def avg_pool_2x2(image):\n",
    "    h, w = image.shape\n",
    "    pooled = np.zeros((h//2, w//2))\n",
    "    for i in range(0, h, 2):\n",
    "        for j in range(0, w, 2):\n",
    "            pooled[i//2, j//2] = np.mean(image[i:i+2, j:j+2])\n",
    "    return pooled\n",
    "\n",
    "def global_avg_pool(image):\n",
    "    return np.mean(image)\n",
    "\n",
    "def global_max_pool(image):\n",
    "    return np.max(image)\n",
    "\n",
    "def plot_image(image):\n",
    "    plt.imshow(image, cmap=\"gray\")\n",
    "    plt.axis(\"off\")\n",
    "    plt.show()\n",
    "\n",
    "# Create images\n",
    "size = 10\n",
    "image_center = create_image_with_circle(size, (5, 5))\n",
    "image_top_right = create_image_with_circle(size, (3, 6))\n",
    "\n",
    "# Apply pooling methods\n",
    "for name, image in [(\"Center\", image_center), (\"Top Right\", image_top_right)]:\n",
    "    print(f\"\\nImage with circle at {name}:\")\n",
    "    print(image)\n",
    "    plot_image(image)\n",
    "    \n",
    "    print(\"\\nMax Pooling 2x2:\")\n",
    "    print(max_pool_2x2(image))\n",
    "    plot_image(max_pool_2x2(image))\n",
    "    \n",
    "    print(\"\\nAverage Pooling 2x2:\")\n",
    "    print(avg_pool_2x2(image))\n",
    "    plot_image(avg_pool_2x2(image))\n",
    "    \n",
    "    print(\"\\nGlobal Average Pooling:\")\n",
    "    print(global_avg_pool(image))\n",
    "    \n",
    "    print(\"\\nGlobal Max Pooling:\")\n",
    "    print(global_max_pool(image))"
   ]
  },
  {
   "cell_type": "code",
   "execution_count": null,
   "metadata": {},
   "outputs": [],
   "source": []
  }
 ],
 "metadata": {
  "kernelspec": {
   "display_name": "fastai",
   "language": "python",
   "name": "python3"
  },
  "language_info": {
   "codemirror_mode": {
    "name": "ipython",
    "version": 3
   },
   "file_extension": ".py",
   "mimetype": "text/x-python",
   "name": "python",
   "nbconvert_exporter": "python",
   "pygments_lexer": "ipython3",
   "version": "3.11.3"
  }
 },
 "nbformat": 4,
 "nbformat_minor": 2
}
