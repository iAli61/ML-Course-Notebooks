{
 "cells": [
  {
   "cell_type": "code",
   "execution_count": 10,
   "metadata": {},
   "outputs": [
    {
     "name": "stdout",
     "output_type": "stream",
     "text": [
      "Control Group Click-through Rate: 28.57%\n",
      "Experiment Group Click-through Rate: 64.29%\n",
      "Relative Improvement: 125.00%\n",
      "T-Statistic: -1.9554\n",
      "P-Value: 0.0614\n",
      "The difference is not statistically significant (p >= 0.05)\n"
     ]
    }
   ],
   "source": [
    "import numpy as np\n",
    "from scipy import stats\n",
    "\n",
    "def ab_test(control_results, experiment_results):\n",
    "    # Calculate conversion rates\n",
    "    control_rate = np.mean(control_results)\n",
    "    experiment_rate = np.mean(experiment_results)\n",
    "    \n",
    "    # Perform t-test\n",
    "    t_statistic, p_value = stats.ttest_ind(control_results, experiment_results)\n",
    "    \n",
    "    # Calculate relative improvement\n",
    "    relative_improvement = (experiment_rate - control_rate) / control_rate * 100\n",
    "    \n",
    "    return {\n",
    "        'control_rate': control_rate,\n",
    "        'experiment_rate': experiment_rate,\n",
    "        't_statistic': t_statistic,\n",
    "        'p_value': p_value,\n",
    "        'relative_improvement': relative_improvement\n",
    "    }\n",
    "\n",
    "# Example data: 1 represents a click, 0 represents no click\n",
    "control_group = [0, 1, 0, 0, 1, 1, 0, 0, 0, 1, 0, 0, 0, 0]  # 10 users, 4 clicks\n",
    "experiment_group = [1, 1, 0, 1, 1, 1, 0, 1, 0, 1, 1, 1, 0, 0]  # 10 users, 7 clicks\n",
    "\n",
    "results = ab_test(control_group, experiment_group)\n",
    "\n",
    "print(f\"Control Group Click-through Rate: {results['control_rate']:.2%}\")\n",
    "print(f\"Experiment Group Click-through Rate: {results['experiment_rate']:.2%}\")\n",
    "print(f\"Relative Improvement: {results['relative_improvement']:.2f}%\")\n",
    "print(f\"T-Statistic: {results['t_statistic']:.4f}\")\n",
    "print(f\"P-Value: {results['p_value']:.4f}\")\n",
    "\n",
    "if results['p_value'] < 0.05:\n",
    "    print(\"The difference is statistically significant (p < 0.05)\")\n",
    "else:\n",
    "    print(\"The difference is not statistically significant (p >= 0.05)\")"
   ]
  },
  {
   "cell_type": "code",
   "execution_count": null,
   "metadata": {},
   "outputs": [],
   "source": []
  }
 ],
 "metadata": {
  "kernelspec": {
   "display_name": "fastai",
   "language": "python",
   "name": "python3"
  },
  "language_info": {
   "codemirror_mode": {
    "name": "ipython",
    "version": 3
   },
   "file_extension": ".py",
   "mimetype": "text/x-python",
   "name": "python",
   "nbconvert_exporter": "python",
   "pygments_lexer": "ipython3",
   "version": "3.11.3"
  }
 },
 "nbformat": 4,
 "nbformat_minor": 2
}
