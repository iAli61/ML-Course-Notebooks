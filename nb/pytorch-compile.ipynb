{
 "cells": [
  {
   "cell_type": "code",
   "execution_count": null,
   "metadata": {},
   "outputs": [
    {
     "name": "stdout",
     "output_type": "stream",
     "text": [
      "Regular model loss: 120.338402\n",
      "Compiled model loss: 121.052567\n"
     ]
    }
   ],
   "source": [
    "import torch\n",
    "import torch.nn as nn\n",
    "from torch.utils.data import Dataset, DataLoader\n",
    "\n",
    "class SimpleModel(nn.Module):\n",
    "    def __init__(self):\n",
    "        super().__init__()\n",
    "        self.net = nn.Sequential(\n",
    "            nn.Linear(10, 64),\n",
    "            nn.ReLU(),\n",
    "            nn.Linear(64, 1)\n",
    "        )\n",
    "    \n",
    "    def forward(self, x):\n",
    "        return self.net(x)\n",
    "\n",
    "# Create synthetic data\n",
    "X = torch.randn(1000, 10)\n",
    "y = torch.sum(X**2, dim=1, keepdim=True)\n",
    "\n",
    "# Training function\n",
    "def train_step(model, X, y, optimizer):\n",
    "    optimizer.zero_grad()\n",
    "    output = model(X)\n",
    "    loss = nn.MSELoss()(output, y)\n",
    "    loss.backward()\n",
    "    optimizer.step()\n",
    "    return loss.item()\n",
    "\n",
    "# Regular model\n",
    "model = SimpleModel()\n",
    "optimizer = torch.optim.Adam(model.parameters())\n",
    "\n",
    "# Train one batch\n",
    "loss = train_step(model, X, y, optimizer)\n",
    "print(f\"Regular model loss: {loss:.6f}\")\n",
    "\n",
    "# Compiled modelSAC\n",
    "compiled_model = torch.compile(SimpleModel())\n",
    "compiled_optimizer = torch.optim.Adam(compiled_model.parameters())\n",
    "\n",
    "# Train one batch with compiled model\n",
    "compiled_loss = train_step(compiled_model, X, y, compiled_optimizer)\n",
    "print(f\"Compiled model loss: {compiled_loss:.6f}\")"
   ]
  },
  {
   "cell_type": "code",
   "execution_count": null,
   "metadata": {},
   "outputs": [
    {
     "name": "stdout",
     "output_type": "stream",
     "text": [
      "\n",
      "Testing different compilation modes:\n",
      "Default mode - Time for 10000 forward passes: 1.4041s\n"
     ]
    },
    {
     "name": "stderr",
     "output_type": "stream",
     "text": [
      "skipping cudagraphs due to skipping cudagraphs due to cpu device. Found from : \n",
      "   File \"/tmp/ipykernel_16364/1571453352.py\", line 26, in forward\n",
      "    return self.layers(x)\n",
      "\n"
     ]
    },
    {
     "name": "stdout",
     "output_type": "stream",
     "text": [
      "Reduce-overhead mode - Time for 10000 forward passes: 1.4908s\n"
     ]
    },
    {
     "name": "stderr",
     "output_type": "stream",
     "text": [
      "skipping cudagraphs due to skipping cudagraphs due to cpu device. Found from : \n",
      "   File \"/tmp/ipykernel_16364/1571453352.py\", line 26, in forward\n",
      "    return self.layers(x)\n",
      "\n"
     ]
    },
    {
     "name": "stdout",
     "output_type": "stream",
     "text": [
      "Max-autotune mode - Time for 10000 forward passes: 1.4898s\n"
     ]
    }
   ],
   "source": [
    "def show_compilation_modes():\n",
    "    model = MLPModel()\n",
    "    input_data = torch.randn(1, 10)\n",
    "    \n",
    "    compilation_modes = {\n",
    "        'Default': {},\n",
    "        'Reduce-overhead': {'mode': 'reduce-overhead'},\n",
    "        'Max-autotune': {'mode': 'max-autotune'}\n",
    "    }\n",
    "    \n",
    "    print(\"\\nTesting different compilation modes:\")\n",
    "    \n",
    "    for name, kwargs in compilation_modes.items():\n",
    "        try:\n",
    "            compiled_model = torch.compile(model, **kwargs)\n",
    "            \n",
    "            # Warmup\n",
    "            _ = compiled_model(input_data)\n",
    "            \n",
    "            # Timing\n",
    "            start_time = time.time()\n",
    "            for _ in range(10000):\n",
    "                _ = compiled_model(input_data)\n",
    "            end_time = time.time()\n",
    "            \n",
    "            print(f\"{name} mode - Time for 10000 forward passes: {end_time - start_time:.4f}s\")\n",
    "        except Exception as e:\n",
    "            print(f\"{name} mode - Compilation failed: {e}\")\n",
    "            \n",
    "            \n",
    "show_compilation_modes()"
   ]
  },
  {
   "cell_type": "code",
   "execution_count": null,
   "metadata": {},
   "outputs": [],
   "source": []
  }
 ],
 "metadata": {
  "kernelspec": {
   "display_name": "ml-codes",
   "language": "python",
   "name": "python3"
  },
  "language_info": {
   "codemirror_mode": {
    "name": "ipython",
    "version": 3
   },
   "file_extension": ".py",
   "mimetype": "text/x-python",
   "name": "python",
   "nbconvert_exporter": "python",
   "pygments_lexer": "ipython3",
   "version": "3.10.14"
  }
 },
 "nbformat": 4,
 "nbformat_minor": 2
}
