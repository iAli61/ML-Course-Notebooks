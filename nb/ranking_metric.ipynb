{
 "cells": [
  {
   "cell_type": "code",
   "execution_count": 8,
   "metadata": {},
   "outputs": [
    {
     "name": "stdout",
     "output_type": "stream",
     "text": [
      "Ranked Documents: [('Python is a popular programming language', 0.3333333333333333), ('Java is widely used in enterprise software', 0.3333333333333333), ('Python has simple syntax and is easy to learn', 0.3333333333333333), ('JavaScript is used for web development', 0.3333333333333333), ('Python supports multiple programming paradigms', 0.3333333333333333)]\n",
      "Precision@3: 0.6666666666666666\n",
      "Recall@3: 0.6666666666666666\n",
      "MRR: 1.0\n",
      "mAP: 0.7555555555555555\n",
      "nDCG@3: 0.7039180890341347\n"
     ]
    }
   ],
   "source": [
    "import numpy as np\n",
    "from typing import List, Tuple\n",
    "\n",
    "def simple_ranking_algorithm(query: str, documents: List[str]) -> List[Tuple[str, float]]:\n",
    "    \"\"\"\n",
    "    A simple ranking algorithm based on word overlap between query and documents.\n",
    "    \"\"\"\n",
    "    query_words = set(query.lower().split())\n",
    "    ranked_docs = []\n",
    "    for doc in documents:\n",
    "        doc_words = set(doc.lower().split())\n",
    "        score = len(query_words.intersection(doc_words)) / len(query_words)\n",
    "        ranked_docs.append((doc, score))\n",
    "    return sorted(ranked_docs, key=lambda x: x[1], reverse=True)\n",
    "\n",
    "def precision_at_k(ranked_docs: List[Tuple[str, float]], relevant_docs: List[str], k: int) -> float:\n",
    "    \"\"\"Calculate Precision@k\"\"\"\n",
    "    relevant_retrieved = sum(1 for doc, _ in ranked_docs[:k] if doc in relevant_docs)\n",
    "    return relevant_retrieved / k if k > 0 else 0\n",
    "\n",
    "def recall_at_k(ranked_docs: List[Tuple[str, float]], relevant_docs: List[str], k: int) -> float:\n",
    "    \"\"\"Calculate Recall@k\"\"\"\n",
    "    relevant_retrieved = sum(1 for doc, _ in ranked_docs[:k] if doc in relevant_docs)\n",
    "    return relevant_retrieved / len(relevant_docs) if relevant_docs else 0\n",
    "\n",
    "def mean_reciprocal_rank(ranked_docs: List[Tuple[str, float]], relevant_docs: List[str]) -> float:\n",
    "    \"\"\"Calculate Mean Reciprocal Rank\"\"\"\n",
    "    for i, (doc, _) in enumerate(ranked_docs, 1):\n",
    "        if doc in relevant_docs:\n",
    "            return 1 / i\n",
    "    return 0\n",
    "\n",
    "def average_precision(ranked_docs: List[Tuple[str, float]], relevant_docs: List[str]) -> float:\n",
    "    \"\"\"Calculate Average Precision\"\"\"\n",
    "    relevant_count = 0\n",
    "    sum_precision = 0\n",
    "    for i, (doc, _) in enumerate(ranked_docs, 1):\n",
    "        if doc in relevant_docs:\n",
    "            relevant_count += 1\n",
    "            sum_precision += relevant_count / i\n",
    "    return sum_precision / len(relevant_docs) if relevant_docs else 0\n",
    "\n",
    "def ndcg_at_k(ranked_docs: List[Tuple[str, float]], relevant_docs: List[str], k: int) -> float:\n",
    "    \"\"\"Calculate Normalized Discounted Cumulative Gain@k\"\"\"\n",
    "    dcg = sum((1 / np.log2(i + 1)) for i, (doc, _) in enumerate(ranked_docs[:k], 1) if doc in relevant_docs)\n",
    "    idcg = sum((1 / np.log2(i + 1)) for i in range(1, min(k, len(relevant_docs)) + 1))\n",
    "    return dcg / idcg if idcg > 0 else 0\n",
    "\n",
    "# Example usage\n",
    "query = \"python software development\"\n",
    "documents = [\n",
    "    \"Python is a popular programming language\",\n",
    "    \"Java is widely used in enterprise software\",\n",
    "    \"Python has simple syntax and is easy to learn\",\n",
    "    \"JavaScript is used for web development\",\n",
    "    \"Python supports multiple programming paradigms\"\n",
    "]\n",
    "relevant_docs = [documents[0], documents[2], documents[4]]\n",
    "\n",
    "ranked_docs = simple_ranking_algorithm(query, documents)\n",
    "print(f\"Ranked Documents: {ranked_docs}\")\n",
    "\n",
    "k = 3\n",
    "print(f\"Precision@{k}: {precision_at_k(ranked_docs, relevant_docs, k)}\")\n",
    "print(f\"Recall@{k}: {recall_at_k(ranked_docs, relevant_docs, k)}\")\n",
    "print(f\"MRR: {mean_reciprocal_rank(ranked_docs, relevant_docs)}\")\n",
    "print(f\"mAP: {average_precision(ranked_docs, relevant_docs)}\")\n",
    "print(f\"nDCG@{k}: {ndcg_at_k(ranked_docs, relevant_docs, k)}\")"
   ]
  },
  {
   "cell_type": "code",
   "execution_count": null,
   "metadata": {},
   "outputs": [],
   "source": []
  }
 ],
 "metadata": {
  "kernelspec": {
   "display_name": "fastai",
   "language": "python",
   "name": "python3"
  },
  "language_info": {
   "codemirror_mode": {
    "name": "ipython",
    "version": 3
   },
   "file_extension": ".py",
   "mimetype": "text/x-python",
   "name": "python",
   "nbconvert_exporter": "python",
   "pygments_lexer": "ipython3",
   "version": "3.11.3"
  }
 },
 "nbformat": 4,
 "nbformat_minor": 2
}
