{
 "cells": [
  {
   "cell_type": "code",
   "execution_count": null,
   "metadata": {},
   "outputs": [],
   "source": [
    "class LinearRegressionMAP:\n",
    "    def __init__(self, lambda_reg=1.0, prior='gaussian'):\n",
    "        self.lambda_reg = lambda_reg\n",
    "        self.prior = prior\n",
    "        self.w = None\n",
    "        self.b = None\n",
    "        \n",
    "    def negative_log_posterior(self, X, y):\n",
    "        # Likelihood term (assuming Gaussian noise)\n",
    "        y_pred = X.dot(self.w) + self.b\n",
    "        likelihood_term = np.sum((y - y_pred) ** 2)\n",
    "        \n",
    "        # Prior term\n",
    "        if self.prior == 'gaussian':\n",
    "            # Gaussian prior leads to L2 regularization\n",
    "            prior_term = self.lambda_reg * np.sum(self.w ** 2)\n",
    "        elif self.prior == 'laplace':\n",
    "            # Laplace prior leads to L1 regularization\n",
    "            prior_term = self.lambda_reg * np.sum(np.abs(self.w))\n",
    "            \n",
    "        return likelihood_term + prior_term"
   ]
  },
  {
   "cell_type": "code",
   "execution_count": 1,
   "metadata": {},
   "outputs": [],
   "source": [
    "def choose_prior_for_problem(n_features, n_samples, domain_knowledge):\n",
    "    \"\"\"\n",
    "    Helper function to choose appropriate prior based on problem characteristics\n",
    "    \"\"\"\n",
    "    if n_features > n_samples:\n",
    "        # If we have more features than samples, sparsity might help\n",
    "        return 'laplace'  # L1 regularization\n",
    "    elif domain_knowledge.get('parameters_should_be_small', False):\n",
    "        return 'gaussian'  # L2 regularization\n",
    "    elif domain_knowledge.get('parameters_should_be_sparse', False):\n",
    "        return 'laplace'  # L1 regularization\n",
    "    else:\n",
    "        # Default to Gaussian prior if no strong preference\n",
    "        return 'gaussian'"
   ]
  },
  {
   "cell_type": "code",
   "execution_count": 2,
   "metadata": {},
   "outputs": [],
   "source": [
    "def set_regularization_strength(train_size, noise_level, confidence_in_prior):\n",
    "    \"\"\"\n",
    "    Helper to set regularization strength based on problem characteristics\n",
    "    \"\"\"\n",
    "    base_lambda = 1.0\n",
    "    \n",
    "    # Adjust based on training set size\n",
    "    # Less data = rely more on prior\n",
    "    size_factor = np.exp(-train_size / 1000)\n",
    "    \n",
    "    # Adjust based on noise level\n",
    "    # More noise = rely more on prior\n",
    "    noise_factor = np.exp(noise_level)\n",
    "    \n",
    "    # Adjust based on confidence in prior\n",
    "    prior_factor = confidence_in_prior\n",
    "    \n",
    "    return base_lambda * size_factor * noise_factor * prior_factor"
   ]
  },
  {
   "cell_type": "code",
   "execution_count": 3,
   "metadata": {},
   "outputs": [],
   "source": [
    "def compare_map_vs_mle(X, y, n_samples_list):\n",
    "    \"\"\"\n",
    "    Compare MAP and MLE performance for different dataset sizes\n",
    "    \"\"\"\n",
    "    results = []\n",
    "    for n in n_samples_list:\n",
    "        # Train MAP and MLE models\n",
    "        X_subset = X[:n]\n",
    "        y_subset = y[:n]\n",
    "        \n",
    "        mle_model = LinearRegression().fit(X_subset, y_subset)\n",
    "        map_model = Ridge(alpha=1.0).fit(X_subset, y_subset)\n",
    "        \n",
    "        # Compare performance\n",
    "        results.append({\n",
    "            'n_samples': n,\n",
    "            'mle_error': compute_error(mle_model, X_test, y_test),\n",
    "            'map_error': compute_error(map_model, X_test, y_test)\n",
    "        })\n",
    "    return results"
   ]
  },
  {
   "cell_type": "code",
   "execution_count": null,
   "metadata": {},
   "outputs": [],
   "source": []
  }
 ],
 "metadata": {
  "kernelspec": {
   "display_name": "fastai",
   "language": "python",
   "name": "python3"
  },
  "language_info": {
   "codemirror_mode": {
    "name": "ipython",
    "version": 3
   },
   "file_extension": ".py",
   "mimetype": "text/x-python",
   "name": "python",
   "nbconvert_exporter": "python",
   "pygments_lexer": "ipython3",
   "version": "3.11.3"
  }
 },
 "nbformat": 4,
 "nbformat_minor": 2
}
