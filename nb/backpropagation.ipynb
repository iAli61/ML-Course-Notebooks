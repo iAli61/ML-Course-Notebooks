{
 "cells": [
  {
   "cell_type": "code",
   "execution_count": 1,
   "metadata": {},
   "outputs": [
    {
     "name": "stdout",
     "output_type": "stream",
     "text": [
      "[[0.01312286]\n",
      " [0.9860211 ]\n",
      " [0.98626052]\n",
      " [0.01759284]]\n"
     ]
    }
   ],
   "source": [
    "import numpy as np\n",
    "\n",
    "def sigmoid(x):\n",
    "    return 1 / (1 + np.exp(-x))\n",
    "\n",
    "def sigmoid_derivative(x):\n",
    "    return x * (1 - x)\n",
    "\n",
    "class SimpleNeuralNetwork:\n",
    "    def __init__(self, input_size, hidden_size, output_size):\n",
    "        self.W1 = np.random.randn(input_size, hidden_size)\n",
    "        self.W2 = np.random.randn(hidden_size, output_size)\n",
    "        self.b1 = np.zeros((1, hidden_size))\n",
    "        self.b2 = np.zeros((1, output_size))\n",
    "\n",
    "    def forward(self, X):\n",
    "        self.z1 = np.dot(X, self.W1) + self.b1\n",
    "        self.a1 = sigmoid(self.z1)\n",
    "        self.z2 = np.dot(self.a1, self.W2) + self.b2\n",
    "        self.a2 = sigmoid(self.z2)\n",
    "        return self.a2\n",
    "\n",
    "    def backward(self, X, y, output):\n",
    "        m = X.shape[0]\n",
    "        \n",
    "        # Output layer\n",
    "        dz2 = output - y\n",
    "        dW2 = (1 / m) * np.dot(self.a1.T, dz2)\n",
    "        db2 = (1 / m) * np.sum(dz2, axis=0, keepdims=True)\n",
    "        \n",
    "        # Hidden layer\n",
    "        dz1 = np.dot(dz2, self.W2.T) * sigmoid_derivative(self.a1)\n",
    "        dW1 = (1 / m) * np.dot(X.T, dz1)\n",
    "        db1 = (1 / m) * np.sum(dz1, axis=0, keepdims=True)\n",
    "        \n",
    "        return dW1, db1, dW2, db2\n",
    "\n",
    "    def train(self, X, y, learning_rate, epochs):\n",
    "        for _ in range(epochs):\n",
    "            output = self.forward(X)\n",
    "            dW1, db1, dW2, db2 = self.backward(X, y, output)\n",
    "            \n",
    "            self.W1 -= learning_rate * dW1\n",
    "            self.b1 -= learning_rate * db1\n",
    "            self.W2 -= learning_rate * dW2\n",
    "            self.b2 -= learning_rate * db2\n",
    "\n",
    "# Example usage\n",
    "X = np.array([[0, 0, 1], [0, 1, 1], [1, 0, 1], [1, 1, 1]])\n",
    "y = np.array([[0], [1], [1], [0]])\n",
    "\n",
    "nn = SimpleNeuralNetwork(3, 4, 1)\n",
    "nn.train(X, y, learning_rate=0.1, epochs=10000)\n",
    "\n",
    "# Test the trained network\n",
    "print(nn.forward(X))"
   ]
  },
  {
   "cell_type": "code",
   "execution_count": 2,
   "metadata": {},
   "outputs": [
    {
     "name": "stdout",
     "output_type": "stream",
     "text": [
      "dz/dx: tensor([4.])\n",
      "dz/dy: tensor([27.])\n"
     ]
    },
    {
     "name": "stderr",
     "output_type": "stream",
     "text": [
      "/home/alibina/miniconda3/envs/fastai/lib/python3.11/site-packages/torch/autograd/__init__.py:251: UserWarning: CUDA initialization: The NVIDIA driver on your system is too old (found version 11040). Please update your GPU driver by downloading and installing a new version from the URL: http://www.nvidia.com/Download/index.aspx Alternatively, go to: https://pytorch.org to install a PyTorch version that has been compiled with your version of the CUDA driver. (Triggered internally at ../c10/cuda/CUDAFunctions.cpp:108.)\n",
      "  Variable._execution_engine.run_backward(  # Calls into the C++ engine to run the backward pass\n"
     ]
    }
   ],
   "source": [
    "import torch\n",
    "\n",
    "# Create tensors with requires_grad=True to track computations\n",
    "x = torch.tensor([2.0], requires_grad=True)\n",
    "y = torch.tensor([3.0], requires_grad=True)\n",
    "\n",
    "# Perform some operations\n",
    "z = x**2 + y**3\n",
    "\n",
    "# Compute the gradients\n",
    "z.backward()\n",
    "\n",
    "# Print the gradients\n",
    "print(f\"dz/dx: {x.grad}\")  # Should be 4.0 (2 * x)\n",
    "print(f\"dz/dy: {y.grad}\")  # Should be 27.0 (3 * y^2)"
   ]
  },
  {
   "cell_type": "code",
   "execution_count": 1,
   "metadata": {},
   "outputs": [
    {
     "name": "stdout",
     "output_type": "stream",
     "text": [
      "Initial prediction: [[0.75136507]]\n",
      "Loss after one step: 0.274811083176155\n"
     ]
    }
   ],
   "source": [
    "import numpy as np\n",
    "\n",
    "class SimpleNeuralNetwork:\n",
    "    def __init__(self):\n",
    "        # Initialize weights and biases\n",
    "        self.W1 = np.array([[0.15, 0.20],  # 2x2 weight matrix for hidden layer\n",
    "                           [0.25, 0.30]])\n",
    "        self.b1 = np.array([[0.35],        # 2x1 bias vector for hidden layer\n",
    "                           [0.35]])\n",
    "        self.W2 = np.array([[0.40, 0.45]]) # 1x2 weight matrix for output layer\n",
    "        self.b2 = np.array([[0.60]])       # 1x1 bias for output layer\n",
    "        \n",
    "    def sigmoid(self, x):\n",
    "        return 1 / (1 + np.exp(-x))\n",
    "    \n",
    "    def sigmoid_derivative(self, x):\n",
    "        return x * (1 - x)\n",
    "    \n",
    "    def forward(self, X):\n",
    "        # Forward propagation\n",
    "        # First layer computation\n",
    "        self.z1 = np.dot(self.W1, X) + self.b1  # Input to hidden layer\n",
    "        self.a1 = self.sigmoid(self.z1)         # Hidden layer activation\n",
    "        \n",
    "        # Second layer computation\n",
    "        self.z2 = np.dot(self.W2, self.a1) + self.b2  # Input to output layer\n",
    "        self.a2 = self.sigmoid(self.z2)         # Output layer activation\n",
    "        \n",
    "        return self.a2\n",
    "    \n",
    "    def backward(self, X, y, learning_rate=0.1):\n",
    "        m = X.shape[1]  # number of examples\n",
    "        \n",
    "        # Compute gradients for output layer (layer 2)\n",
    "        dZ2 = self.a2 - y\n",
    "        dW2 = (1/m) * np.dot(dZ2, self.a1.T)\n",
    "        db2 = (1/m) * np.sum(dZ2, axis=1, keepdims=True)\n",
    "        \n",
    "        # Compute gradients for hidden layer (layer 1)\n",
    "        dZ1 = np.multiply(np.dot(self.W2.T, dZ2), self.sigmoid_derivative(self.a1))\n",
    "        dW1 = (1/m) * np.dot(dZ1, X.T)\n",
    "        db1 = (1/m) * np.sum(dZ1, axis=1, keepdims=True)\n",
    "        \n",
    "        # Update parameters\n",
    "        self.W2 -= learning_rate * dW2\n",
    "        self.b2 -= learning_rate * db2\n",
    "        self.W1 -= learning_rate * dW1\n",
    "        self.b1 -= learning_rate * db1\n",
    "        \n",
    "        return np.sum((y - self.a2) ** 2) / (2 * m)  # Return MSE loss\n",
    "\n",
    "# Example usage\n",
    "if __name__ == \"__main__\":\n",
    "    # Create a simple dataset\n",
    "    X = np.array([[0.05],\n",
    "                  [0.10]])  # Input features\n",
    "    y = np.array([[0.01]])  # Target output\n",
    "    \n",
    "    # Initialize and train network\n",
    "    nn = SimpleNeuralNetwork()\n",
    "    \n",
    "    # Forward pass\n",
    "    output = nn.forward(X)\n",
    "    print(\"Initial prediction:\", output)\n",
    "    \n",
    "    # Single backward pass\n",
    "    loss = nn.backward(X, y)\n",
    "    print(\"Loss after one step:\", loss)"
   ]
  },
  {
   "cell_type": "code",
   "execution_count": null,
   "metadata": {},
   "outputs": [],
   "source": []
  }
 ],
 "metadata": {
  "kernelspec": {
   "display_name": "fastai",
   "language": "python",
   "name": "python3"
  },
  "language_info": {
   "codemirror_mode": {
    "name": "ipython",
    "version": 3
   },
   "file_extension": ".py",
   "mimetype": "text/x-python",
   "name": "python",
   "nbconvert_exporter": "python",
   "pygments_lexer": "ipython3",
   "version": "3.11.3"
  }
 },
 "nbformat": 4,
 "nbformat_minor": 2
}
